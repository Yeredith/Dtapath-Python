{
 "cells": [
  {
   "cell_type": "code",
   "execution_count": null,
   "metadata": {},
   "outputs": [],
   "source": [
    "#indentación\n",
    "#delimitadores (:)\n",
    "\n",
    "\n",
    "\n"
   ]
  },
  {
   "cell_type": "code",
   "execution_count": 1,
   "metadata": {},
   "outputs": [
    {
     "name": "stdout",
     "output_type": "stream",
     "text": [
      "2500\n"
     ]
    }
   ],
   "source": [
    "\n",
    "#Suma de numeros impares 1,100 (range(1,100))\n",
    "def sum_impar():\n",
    "    im_num = [numeros for numeros in range(1,100) if numeros % 2 != 0]\n",
    "    return sum(im_num)\n",
    "\n",
    "res = sum_impar()\n",
    "print(res)"
   ]
  },
  {
   "cell_type": "code",
   "execution_count": 7,
   "metadata": {},
   "outputs": [
    {
     "name": "stdout",
     "output_type": "stream",
     "text": [
      "[0, 3, 3, 0, 2, 0, 3, 1, 3]\n",
      "[0, 1, 2, 3]\n"
     ]
    }
   ],
   "source": [
    "#Funcion eliminar duplicados en una lista\n",
    "import random\n",
    "def elim_dup(lista):\n",
    "    return list(set(lista))\n",
    "\n",
    "lista = [random.randint(0,3) for i in range(0,9)]\n",
    "x = lista\n",
    "print(x)\n",
    "print(elim_dup(x))"
   ]
  },
  {
   "cell_type": "code",
   "execution_count": 19,
   "metadata": {},
   "outputs": [
    {
     "name": "stdout",
     "output_type": "stream",
     "text": [
      "[4, 0, 2, 0, 5, 3, 0, 2, 2]\n",
      "El elemento 2 esta en la posición 2\n"
     ]
    }
   ],
   "source": [
    "#Funcion para buscar un elemento en una lista\n",
    "def busqueda(lista,elem):\n",
    "    for pos, val in enumerate(lista):\n",
    "        if val == elem:\n",
    "            return pos\n",
    "    return False\n",
    "\n",
    "lista = [random.randint(0,5) for i in range(0,9)]\n",
    "print(lista)\n",
    "elem = 2\n",
    "pos = busqueda(lista,elem)\n",
    "if pos != False:\n",
    "    print(f\"El elemento {elem} esta en la posición {pos}\")\n",
    "else:\n",
    "    print(\"Elemento no encontrado\")\n",
    "\n"
   ]
  },
  {
   "cell_type": "code",
   "execution_count": 16,
   "metadata": {},
   "outputs": [
    {
     "name": "stdout",
     "output_type": "stream",
     "text": [
      "120\n"
     ]
    }
   ],
   "source": [
    "#funcion que calcule el factorial de un numero\n",
    "def fact(numero):\n",
    "    factorial = 1\n",
    "    for i in range(1,numero+1):\n",
    "        factorial *= i\n",
    "    return factorial\n",
    "\n",
    "numero = 5\n",
    "x = fact(numero)\n",
    "print(x)"
   ]
  },
  {
   "cell_type": "code",
   "execution_count": 22,
   "metadata": {},
   "outputs": [
    {
     "name": "stdout",
     "output_type": "stream",
     "text": [
      "[2, 2, 0, 2, 1, 0, 2, 3, 3]\n",
      "{2: 4, 0: 2, 1: 1, 3: 2}\n"
     ]
    }
   ],
   "source": [
    "#Funcion que cuenta la frecuencia de una lista\n",
    "import random\n",
    "def frecuencia(lita):\n",
    "    frec = {}\n",
    "    for elem in lista:\n",
    "        if elem in frec:\n",
    "            frec[elem] += 1\n",
    "        else:\n",
    "            frec[elem] = 1\n",
    "    return frec\n",
    "\n",
    "lista = [random.randint(0,3) for i in range(0,9)]\n",
    "print(lista)\n",
    "frec_elem = frecuencia(lista)\n",
    "print(frec_elem)"
   ]
  }
 ],
 "metadata": {
  "kernelspec": {
   "display_name": "Python 3",
   "language": "python",
   "name": "python3"
  },
  "language_info": {
   "codemirror_mode": {
    "name": "ipython",
    "version": 3
   },
   "file_extension": ".py",
   "mimetype": "text/x-python",
   "name": "python",
   "nbconvert_exporter": "python",
   "pygments_lexer": "ipython3",
   "version": "3.10.13"
  }
 },
 "nbformat": 4,
 "nbformat_minor": 2
}
